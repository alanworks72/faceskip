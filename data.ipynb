{
 "cells": [
  {
   "cell_type": "markdown",
   "metadata": {},
   "source": [
    "## FER 데이터셋 만들기\n",
    "> FER+를 먼저 시도하였으나, 라벨에 노이즈가 많아 FER 데이터셋으로 전환합니다. (Revision 2024.10.02)"
   ]
  },
  {
   "cell_type": "markdown",
   "metadata": {},
   "source": [
    "kaggle에서 fer 데이터를 다운받아 압축을 해제합니다. (※ 실행 전 Kaggle API를 먼저 등록해주세요!)<br>\n",
    "불필요한 파일은 압축 해제를 완료한 후 제거합니다."
   ]
  },
  {
   "cell_type": "code",
   "execution_count": 11,
   "metadata": {},
   "outputs": [
    {
     "name": "stdout",
     "output_type": "stream",
     "text": [
      "challenges-in-representation-learning-facial-expression-recognition-challenge.zip: Skipping, found more recently modified local copy (use --force to force download)\n",
      "Archive:  challenges-in-representation-learning-facial-expression-recognition-challenge.zip\n",
      "  inflating: example_submission.csv  \n",
      "  inflating: fer2013.tar.gz          \n",
      "  inflating: icml_face_data.csv      \n",
      "  inflating: test.csv                \n",
      "  inflating: train.csv               \n",
      "fer2013/fer2013.csv\n",
      "fer2013/README\n",
      "fer2013/fer2013.bib\n",
      "fer2013/\n"
     ]
    }
   ],
   "source": [
    "!kaggle competitions download -c challenges-in-representation-learning-facial-expression-recognition-challenge\n",
    "!unzip challenges-in-representation-learning-facial-expression-recognition-challenge.zip\n",
    "!mkdir data\n",
    "!tar -xvzf fer2013.tar.gz -C data/\n",
    "!rm challenges-in-representation-learning-facial-expression-recognition-challenge.zip example_submission.csv fer2013.tar.gz icml_face_data.csv test.csv train.csv"
   ]
  },
  {
   "cell_type": "markdown",
   "metadata": {},
   "source": [
    "필요한 라이브러리를 불러옵니다."
   ]
  },
  {
   "cell_type": "code",
   "execution_count": 13,
   "metadata": {},
   "outputs": [],
   "source": [
    "import pandas as pd\n",
    "import numpy as np\n",
    "import matplotlib.pyplot as plt\n",
    "import seaborn as sns\n",
    "\n",
    "from PIL import Image\n",
    "from collections import Counter"
   ]
  },
  {
   "cell_type": "markdown",
   "metadata": {},
   "source": [
    "pandas로 fer 데이터(fer2013.csv)을 불러와 확인합니다."
   ]
  },
  {
   "cell_type": "code",
   "execution_count": 14,
   "metadata": {},
   "outputs": [
    {
     "name": "stdout",
     "output_type": "stream",
     "text": [
      "<class 'pandas.core.frame.DataFrame'>\n",
      "RangeIndex: 35887 entries, 0 to 35886\n",
      "Data columns (total 3 columns):\n",
      " #   Column   Non-Null Count  Dtype \n",
      "---  ------   --------------  ----- \n",
      " 0   emotion  35887 non-null  int64 \n",
      " 1   pixels   35887 non-null  object\n",
      " 2   Usage    35887 non-null  object\n",
      "dtypes: int64(1), object(2)\n",
      "memory usage: 841.2+ KB\n"
     ]
    },
    {
     "data": {
      "text/html": [
       "<div>\n",
       "<style scoped>\n",
       "    .dataframe tbody tr th:only-of-type {\n",
       "        vertical-align: middle;\n",
       "    }\n",
       "\n",
       "    .dataframe tbody tr th {\n",
       "        vertical-align: top;\n",
       "    }\n",
       "\n",
       "    .dataframe thead th {\n",
       "        text-align: right;\n",
       "    }\n",
       "</style>\n",
       "<table border=\"1\" class=\"dataframe\">\n",
       "  <thead>\n",
       "    <tr style=\"text-align: right;\">\n",
       "      <th></th>\n",
       "      <th>emotion</th>\n",
       "      <th>pixels</th>\n",
       "      <th>Usage</th>\n",
       "    </tr>\n",
       "  </thead>\n",
       "  <tbody>\n",
       "    <tr>\n",
       "      <th>0</th>\n",
       "      <td>0</td>\n",
       "      <td>70 80 82 72 58 58 60 63 54 58 60 48 89 115 121...</td>\n",
       "      <td>Training</td>\n",
       "    </tr>\n",
       "    <tr>\n",
       "      <th>1</th>\n",
       "      <td>0</td>\n",
       "      <td>151 150 147 155 148 133 111 140 170 174 182 15...</td>\n",
       "      <td>Training</td>\n",
       "    </tr>\n",
       "    <tr>\n",
       "      <th>2</th>\n",
       "      <td>2</td>\n",
       "      <td>231 212 156 164 174 138 161 173 182 200 106 38...</td>\n",
       "      <td>Training</td>\n",
       "    </tr>\n",
       "    <tr>\n",
       "      <th>3</th>\n",
       "      <td>4</td>\n",
       "      <td>24 32 36 30 32 23 19 20 30 41 21 22 32 34 21 1...</td>\n",
       "      <td>Training</td>\n",
       "    </tr>\n",
       "    <tr>\n",
       "      <th>4</th>\n",
       "      <td>6</td>\n",
       "      <td>4 0 0 0 0 0 0 0 0 0 0 0 3 15 23 28 48 50 58 84...</td>\n",
       "      <td>Training</td>\n",
       "    </tr>\n",
       "  </tbody>\n",
       "</table>\n",
       "</div>"
      ],
      "text/plain": [
       "   emotion                                             pixels     Usage\n",
       "0        0  70 80 82 72 58 58 60 63 54 58 60 48 89 115 121...  Training\n",
       "1        0  151 150 147 155 148 133 111 140 170 174 182 15...  Training\n",
       "2        2  231 212 156 164 174 138 161 173 182 200 106 38...  Training\n",
       "3        4  24 32 36 30 32 23 19 20 30 41 21 22 32 34 21 1...  Training\n",
       "4        6  4 0 0 0 0 0 0 0 0 0 0 0 3 15 23 28 48 50 58 84...  Training"
      ]
     },
     "metadata": {},
     "output_type": "display_data"
    },
    {
     "data": {
      "text/plain": [
       "None"
      ]
     },
     "metadata": {},
     "output_type": "display_data"
    },
    {
     "data": {
      "text/plain": [
       "Counter({'Training': 28709, 'PublicTest': 3589, 'PrivateTest': 3589})"
      ]
     },
     "metadata": {},
     "output_type": "display_data"
    }
   ],
   "source": [
    "df = pd.read_csv('data/fer2013/fer2013.csv')\n",
    "\n",
    "display(df.head(), df.info(), Counter(df['Usage'])) # pandas의 테이블 시각화를 여러개 띄우고 싶을 땐 display 함수를 사용"
   ]
  },
  {
   "cell_type": "markdown",
   "metadata": {},
   "source": [
    "fer 데이터는 총 35887개 행에, 라벨인 emotion 컬럼과 48*48 이미지를 숫자화한 pixels 컬럼, 각 이미지의 용도를 구분하는 Usage 컬럼이 있는 것으로 확인됐습니다.<br><br>\n",
    "먼저 emotion의 클래스를 살펴보겠습니다.\n",
    "\n",
    "0. Angry(화남)\n",
    "1. Disgust(역겨움)\n",
    "2. Fear(두려움)\n",
    "3. Happy(행복함)\n",
    "4. Sad(슬픔)\n",
    "5. Surprise(놀람)\n",
    "6. Neutral(중립)\n",
    "\n",
    "Usage의 경우, 'Training'(28709개), 'PublicTest'(3589개), 'PrivateTest'(3589개)의 세 항목으로 분류되어 있는데,<br>\n",
    "편의에 따라 Train: 'Training', Validation: 'PublicTest', Test: 'PrivateTest'로 분할하여 사용하겠습니다. (비율은 8:1:1 입니다.)\n",
    "\n",
    "(fer+는 기존 라벨에 Contempt, unknown, NF 3개 항목을 추가하여 10개로 분류하는데 이미지와 매칭되지 않는 라벨, 중복, 누락 등이 있어 사용하지 않았습니다.)\n",
    "\n",
    "---"
   ]
  },
  {
   "cell_type": "markdown",
   "metadata": {},
   "source": [
    "데이터를 본격적으로 분리하기 전에 전체 항목에 대한 각 클래스 별 분포를 먼저 확인해보겠습니다.<br>\n",
    "seaborn을 이용해 emotion 컬럼에 대한 barplot을 그려줍니다."
   ]
  },
  {
   "cell_type": "code",
   "execution_count": 24,
   "metadata": {},
   "outputs": [
    {
     "name": "stderr",
     "output_type": "stream",
     "text": [
      "/tmp/ipykernel_66977/4222469371.py:6: FutureWarning: \n",
      "\n",
      "Passing `palette` without assigning `hue` is deprecated and will be removed in v0.14.0. Assign the `x` variable to `hue` and set `legend=False` for the same effect.\n",
      "\n",
      "  bar_plot = sns.barplot(x='emotion', y='count', data=cnts, palette='mako')\n"
     ]
    },
    {
     "data": {
      "image/png": "[encoded data removed]",
      "text/plain": [
       "<Figure size 600x400 with 1 Axes>"
      ]
     },
     "metadata": {},
     "output_type": "display_data"
    }
   ],
   "source": [
    "EMOTIONS={0:'Angry', 1:'Disgust', 2:'Fear', 3:'Happy', 4:'Sad', 5:'Surprise', 6:'Neutral'}\n",
    "\n",
    "cnts = df['emotion'].value_counts().reset_index()\n",
    "cnts.columns = ['emotion', 'count']\n",
    "cnts['emotion'] = cnts['emotion'].map(EMOTIONS)\n",
    "\n",
    "plt.figure(figsize=(6,4))\n",
    "bar_plot = sns.barplot(x='emotion', y='count', data=cnts, palette='mako')\n",
    "\n",
    "for index, row in cnts.iterrows():\n",
    "    bar_plot.text(x=index, y=row['count']+50, s=row['count'], ha='center')\n",
    "\n",
    "plt.title(\"Emotion Counts\")\n",
    "plt.xlabel(\"Emotion\")\n",
    "plt.ylabel(\"Frequency\")\n",
    "plt.show()"
   ]
  }
 ],
 "metadata": {
  "kernelspec": {
   "display_name": "Python 3",
   "language": "python",
   "name": "python3"
  },
  "language_info": {
   "codemirror_mode": {
    "name": "ipython",
    "version": 3
   },
   "file_extension": ".py",
   "mimetype": "text/x-python",
   "name": "python",
   "nbconvert_exporter": "python",
   "pygments_lexer": "ipython3",
   "version": "3.10.12"
  }
 },
 "nbformat": 4,
 "nbformat_minor": 2
}
